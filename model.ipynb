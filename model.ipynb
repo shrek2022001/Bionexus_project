{
 "cells": [
  {
   "cell_type": "code",
   "execution_count": 1,
   "metadata": {},
   "outputs": [],
   "source": [
    "import mysql.connector\n",
    "import pandas as pd\n",
    "import nltk\n",
    "from nltk.corpus import stopwords\n",
    "from nltk.tokenize import word_tokenize\n",
    "from nltk.stem import WordNetLemmatizer\n",
    "from sklearn.feature_extraction.text import TfidfVectorizer\n",
    "from sklearn.metrics.pairwise import cosine_similarity\n",
    "import re"
   ]
  },
  {
   "cell_type": "code",
   "execution_count": 2,
   "metadata": {},
   "outputs": [],
   "source": [
    "def preprocess_text(text):\n",
    "    if not isinstance(text, str):  # Check if text is not a string\n",
    "        return \"\"  # Return an empty string if the text is not a string or is None\n",
    "    text = text.lower()  # Convert text to lowercase\n",
    "    text = re.sub(r'[^a-z\\s]', '', text)  # Remove non-alphabetic characters\n",
    "    tokens = word_tokenize(text)  # Tokenize text\n",
    "    stop_words = set(stopwords.words('english'))  # Define stopwords\n",
    "    tokens = [token for token in tokens if token not in stop_words]  # Remove stopwords\n",
    "    lemmatizer = WordNetLemmatizer()  # Initialize the Lemmatizer\n",
    "    tokens = [lemmatizer.lemmatize(token) for token in tokens]  # Lemmatize tokens\n",
    "    return ' '.join(tokens)  # Re-join tokens into a string"
   ]
  },
  {
   "cell_type": "code",
   "execution_count": 3,
   "metadata": {},
   "outputs": [],
   "source": [
    "def fetch_articles():\n",
    "    db_config = {\n",
    "        'host': 'localhost',\n",
    "        'user': 'root',\n",
    "        'password': 'Madgame@1',  # Replace with your actual password\n",
    "        'database': 'bionexus_db_2'  # Ensure this matches the exact name of your database\n",
    "    }\n",
    "    \n",
    "    # Connect to the database\n",
    "    conn = mysql.connector.connect(**db_config)\n",
    "    query = \"SELECT id, title, abstract, link FROM articles;\"  # Adjust SQL query as needed\n",
    "    df = pd.read_sql(query, conn)\n",
    "    conn.close()\n",
    "    return df"
   ]
  },
  {
   "cell_type": "code",
   "execution_count": 4,
   "metadata": {},
   "outputs": [],
   "source": [
    "def recommend_articles(input_word, articles_df, top_n=5):\n",
    "    articles_df['processed_abstract'] = articles_df['abstract'].apply(preprocess_text)  # Preprocess texts\n",
    "    vectorizer = TfidfVectorizer(stop_words='english')\n",
    "    tfidf_matrix = vectorizer.fit_transform(articles_df['processed_abstract'])\n",
    "    input_vec = vectorizer.transform([input_word])\n",
    "    similarities = cosine_similarity(input_vec, tfidf_matrix).flatten()\n",
    "    top_indices = similarities.argsort()[-top_n:][::-1]\n",
    "    recommended_articles = articles_df.iloc[top_indices]\n",
    "    return recommended_articles[['id', 'title', 'abstract', 'link']]"
   ]
  },
  {
   "cell_type": "code",
   "execution_count": 5,
   "metadata": {},
   "outputs": [
    {
     "name": "stderr",
     "output_type": "stream",
     "text": [
      "C:\\Users\\spekande\\AppData\\Local\\Temp\\ipykernel_9196\\4157700244.py:12: UserWarning: pandas only supports SQLAlchemy connectable (engine/connection) or database string URI or sqlite3 DBAPI2 connection. Other DBAPI2 objects are not tested. Please consider using SQLAlchemy.\n",
      "  df = pd.read_sql(query, conn)\n"
     ]
    },
    {
     "name": "stdout",
     "output_type": "stream",
     "text": [
      "Recommended articles based on your input:\n",
      "      id                                              title  \\\n",
      "273  274        Medicolegal and insurance issues regarding    \n",
      "173  174        Medicolegal and insurance issues regarding    \n",
      "73    74        Medicolegal and insurance issues regarding    \n",
      "373  374        Medicolegal and insurance issues regarding    \n",
      "461  462  Overexpression of WT1 in all molecular subtype...   \n",
      "\n",
      "                                              abstract  \\\n",
      "273  Hereditary breast and ovarian cancer syndrome ...   \n",
      "173  Hereditary breast and ovarian cancer syndrome ...   \n",
      "73   Hereditary breast and ovarian cancer syndrome ...   \n",
      "373  Hereditary breast and ovarian cancer syndrome ...   \n",
      "461  Breast cancer is a highly heterogeneous solid ...   \n",
      "\n",
      "                                          link  \n",
      "273  https://pubmed.ncbi.nlm.nih.gov/38642925/  \n",
      "173  https://pubmed.ncbi.nlm.nih.gov/38642925/  \n",
      "73   https://pubmed.ncbi.nlm.nih.gov/38642925/  \n",
      "373  https://pubmed.ncbi.nlm.nih.gov/38642925/  \n",
      "461  https://pubmed.ncbi.nlm.nih.gov/38642153/  \n"
     ]
    }
   ],
   "source": [
    "if __name__ == \"__main__\":\n",
    "    df_articles = fetch_articles()\n",
    "    user_input = input(\"Enter a word to find related articles: \")\n",
    "    recommendations = recommend_articles(user_input, df_articles, top_n=5)\n",
    "    print(\"Recommended articles based on your input:\")\n",
    "    print(recommendations)"
   ]
  }
 ],
 "metadata": {
  "kernelspec": {
   "display_name": "base",
   "language": "python",
   "name": "python3"
  },
  "language_info": {
   "codemirror_mode": {
    "name": "ipython",
    "version": 3
   },
   "file_extension": ".py",
   "mimetype": "text/x-python",
   "name": "python",
   "nbconvert_exporter": "python",
   "pygments_lexer": "ipython3",
   "version": "3.11.5"
  }
 },
 "nbformat": 4,
 "nbformat_minor": 2
}
